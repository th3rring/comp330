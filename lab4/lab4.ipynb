{
 "cells": [
  {
   "cell_type": "code",
   "execution_count": 2,
   "metadata": {},
   "outputs": [],
   "source": [
    "import numpy as np\n",
    "import time;\n",
    " \n",
    "# this returns a number whose probability of occurence is p\n",
    "def sampleValue (p):\n",
    "        return np.flatnonzero (np.random.multinomial (1, p, 1))[0]\n",
    " \n",
    "# there are 2000 words in the corpus\n",
    "alpha = np.full (2000, .1)\n",
    " \n",
    "# there are 100 topics\n",
    "beta = np.full (100, .1)\n",
    " \n",
    "# this gets us the probabilty of each word happening in each of the 100 topics\n",
    "wordsInTopic = np.random.dirichlet (alpha, 100)\n",
    "# wordsInCorpus[i] will be a dictionary that gives us the number of each word in the document\n",
    "wordsInCorpus = {}\n",
    " \n",
    "# generate each doc\n",
    "for doc in range (0, 50):\n",
    "        #\n",
    "        # no words in this doc yet\n",
    "        wordsInDoc = {}\n",
    "        #\n",
    "        # get the topic probabilities for this doc\n",
    "        topicsInDoc = np.random.dirichlet (beta)\n",
    "        #\n",
    "        # generate each of the 2000 words in this document\n",
    "        for word in range (0, 2000):\n",
    "                #\n",
    "                # select the topci and the word\n",
    "                whichTopic = sampleValue (topicsInDoc)\n",
    "                whichWord = sampleValue (wordsInTopic[whichTopic])\n",
    "                #\n",
    "                # and record the word\n",
    "                wordsInDoc [whichWord] = wordsInDoc.get (whichWord, 0) + 1\n",
    "                #\n",
    "        # now, remember this document\n",
    "        wordsInCorpus [doc] = wordsInDoc"
   ]
  },
  {
   "cell_type": "code",
   "execution_count": 3,
   "metadata": {},
   "outputs": [
    {
     "data": {
      "text/plain": [
       "64.08940243721008"
      ]
     },
     "execution_count": 3,
     "metadata": {},
     "output_type": "execute_result"
    }
   ],
   "source": [
    "from collections import defaultdict\n",
    "\n",
    "start = time.time()\n",
    "\n",
    "coOccurrences = defaultdict(int)\n",
    "\n",
    "for doc in wordsInCorpus:\n",
    "    for wordOne in wordsInCorpus[doc]:\n",
    "        for wordTwo in wordsInCorpus[doc]:\n",
    "            coOccurrences[(wordOne, wordTwo)] += 1\n",
    "\n",
    "\n",
    "end = time.time()\n",
    "end-start"
   ]
  },
  {
   "cell_type": "code",
   "execution_count": 4,
   "metadata": {},
   "outputs": [],
   "source": [
    "import numpy as np\n",
    "import time;\n",
    " \n",
    "# there are 2000 words in the corpus\n",
    "alpha = np.full (2000, .1)\n",
    " \n",
    "# there are 100 topics\n",
    "beta = np.full (100, .1)\n",
    " \n",
    "# this gets us the probabilty of each word happening in each of the 100 topics\n",
    "wordsInTopic = np.random.dirichlet (alpha, 100)\n",
    " \n",
    "# wordsInCorpus[i] will give us the vector of words in document i\n",
    "wordsInCorpus = np.zeros ((50, 2000))\n",
    " \n",
    "# generate each doc\n",
    "for doc in range (0, 50):\n",
    "        #\n",
    "        # get the topic probabilities for this doc\n",
    "        topicsInDoc = np.random.dirichlet (beta)\n",
    "        #\n",
    "        # assign each of the 2000 words in this doc to a topic\n",
    "        wordsToTopic = np.random.multinomial (2000, topicsInDoc)\n",
    "        #\n",
    "        # and generate each of the 2000 words\n",
    "        for topic in range (0, 100):\n",
    "                wordsFromCurrentTopic = np.random.multinomial (wordsToTopic[topic], wordsInTopic[topic])\n",
    "                wordsInCorpus[doc] = np.add (wordsInCorpus[doc], wordsFromCurrentTopic)"
   ]
  },
  {
   "cell_type": "code",
   "execution_count": 13,
   "metadata": {},
   "outputs": [
    {
     "data": {
      "text/plain": [
       "0.8976688385009766"
      ]
     },
     "execution_count": 13,
     "metadata": {},
     "output_type": "execute_result"
    }
   ],
   "source": [
    "start = time.time()\n",
    "\n",
    "coOccurrences = np.zeros((2000,2000))\n",
    "\n",
    "for doc in range(0,len(wordsInCorpus)):\n",
    "    clipped = np.clip(wordsInCorpus[doc],0,1)\n",
    "    np.add(coOccurrences, np.outer(clipped, clipped))\n",
    "\n",
    "end = time.time()\n",
    "end-start"
   ]
  },
  {
   "cell_type": "code",
   "execution_count": 14,
   "metadata": {},
   "outputs": [
    {
     "data": {
      "text/plain": [
       "0.007431507110595703"
      ]
     },
     "execution_count": 14,
     "metadata": {},
     "output_type": "execute_result"
    }
   ],
   "source": [
    "start = time.time()\n",
    "\n",
    "clipped = np.clip(wordsInCorpus[doc],0,1)\n",
    "coOccurrences = np.dot(clipped, clipped.transpose())\n",
    "\n",
    "end = time.time()\n",
    "end-start"
   ]
  },
  {
   "cell_type": "code",
   "execution_count": 16,
   "metadata": {},
   "outputs": [
    {
     "data": {
      "text/plain": [
       "0.8667631149291992"
      ]
     },
     "execution_count": 16,
     "metadata": {},
     "output_type": "execute_result"
    }
   ],
   "source": [
    "start = time.time()\n",
    "\n",
    "coOccurrences = np.zeros((2000,2000))\n",
    "clippedCorpus = np.clip(wordsInCorpus, 0, 1)\n",
    "\n",
    "for row in clippedCorpus:\n",
    "    np.add(coOccurrences, np.outer(row, row))\n",
    "\n",
    "end = time.time()\n",
    "end-start"
   ]
  },
  {
   "cell_type": "markdown",
   "metadata": {},
   "source": [
    "# "
   ]
  }
 ],
 "metadata": {
  "kernelspec": {
   "display_name": "Python 3",
   "language": "python",
   "name": "python3"
  },
  "language_info": {
   "codemirror_mode": {
    "name": "ipython",
    "version": 3
   },
   "file_extension": ".py",
   "mimetype": "text/x-python",
   "name": "python",
   "nbconvert_exporter": "python",
   "pygments_lexer": "ipython3",
   "version": "3.6.5"
  }
 },
 "nbformat": 4,
 "nbformat_minor": 2
}
