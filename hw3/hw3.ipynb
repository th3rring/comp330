{
 "cells": [
  {
   "cell_type": "code",
   "execution_count": 18,
   "metadata": {},
   "outputs": [],
   "source": [
    "import numpy as np\n",
    "import scipy.stats"
   ]
  },
  {
   "cell_type": "code",
   "execution_count": 19,
   "metadata": {},
   "outputs": [],
   "source": [
    "# one coin has a probability of coming up heads of 0.2, the other Damn0.6\n",
    "coinProbs = np.zeros (2)\n",
    "coinProbs[0] = 0.2\n",
    "coinProbs[1] = 0.6\n",
    "\n",
    "# reach in and pull out a coin numTimes times\n",
    "numTimes = 100\n",
    "\n",
    "# flip it numFlips times when you do\n",
    "numFlips = 10\n",
    "\n",
    "# flips will have the number of heads we observed in 10 flips for each coin\n",
    "flips = np.zeros (numTimes)\n",
    "for coin in range(numTimes):\n",
    "        which = np.random.binomial (1, 0.5, 1);\n",
    "        flips[coin] = np.random.binomial (numFlips, coinProbs[which], 1);"
   ]
  },
  {
   "cell_type": "code",
   "execution_count": 20,
   "metadata": {},
   "outputs": [
    {
     "name": "stdout",
     "output_type": "stream",
     "text": [
      "[0.70145682 0.2911988 ]\n",
      "[0.63753545 0.22567276]\n",
      "[0.60365832 0.1931233 ]\n",
      "[0.58660812 0.17810874]\n",
      "[0.57784757 0.17132897]\n",
      "[0.57339243 0.16816444]\n",
      "[0.57115312 0.16664196]\n",
      "[0.57003448 0.16589682]\n",
      "[0.56947713 0.16552905]\n",
      "[0.56919974 0.16534681]\n",
      "[0.56906175 0.16525633]\n",
      "[0.56899311 0.16521137]\n",
      "[0.56895897 0.16518903]\n",
      "[0.568942   0.16517791]\n",
      "[0.56893355 0.16517239]\n",
      "[0.56892935 0.16516964]\n",
      "[0.56892727 0.16516827]\n",
      "[0.56892623 0.16516759]\n",
      "[0.56892571 0.16516726]\n",
      "[0.56892545 0.16516709]\n"
     ]
    }
   ],
   "source": [
    "# initialize the EM algorithm\n",
    "coinProbs[0] = 0.79\n",
    "coinProbs[1] = 0.51\n",
    "\n",
    "# run the EM algorithm\n",
    "for iters in range (20):\n",
    "    #numTimes rows, 2 columns \n",
    "    c = np.zeros((numTimes,2))\n",
    "    \n",
    "    for j in range(2):\n",
    "        for i in range(numTimes):\n",
    "            c[i][j] = scipy.stats.binom.pmf(flips[i], numFlips, coinProbs[j])/(scipy.stats.binom.pmf(flips[i], numFlips, coinProbs[0]) + scipy.stats.binom.pmf(flips[i], numFlips, coinProbs[1]))\n",
    "            \n",
    "    # Calc new probs\n",
    "    coinProbs[0] = flips.dot(c[:,0])/(10 * np.sum(c[:,0])) \n",
    "    coinProbs[1] = flips.dot(c[:,1])/(10 * np.sum(c[:,1])) \n",
    "    print(coinProbs)\n",
    "            \n",
    "    \n",
    "    "
   ]
  },
  {
   "cell_type": "code",
   "execution_count": null,
   "metadata": {},
   "outputs": [],
   "source": []
  },
  {
   "cell_type": "code",
   "execution_count": null,
   "metadata": {},
   "outputs": [],
   "source": []
  }
 ],
 "metadata": {
  "kernelspec": {
   "display_name": "Python 3",
   "language": "python",
   "name": "python3"
  },
  "language_info": {
   "codemirror_mode": {
    "name": "ipython",
    "version": 3
   },
   "file_extension": ".py",
   "mimetype": "text/x-python",
   "name": "python",
   "nbconvert_exporter": "python",
   "pygments_lexer": "ipython3",
   "version": "3.6.5"
  }
 },
 "nbformat": 4,
 "nbformat_minor": 2
}
