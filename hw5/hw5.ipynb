{
 "cells": [
  {
   "cell_type": "code",
   "execution_count": 1,
   "metadata": {},
   "outputs": [],
   "source": [
    "import heapq as hq\n",
    "import numpy as np\n",
    "import time\n",
    "\n",
    " "
   ]
  },
  {
   "cell_type": "code",
   "execution_count": 2,
   "metadata": {},
   "outputs": [
    {
     "name": "stdout",
     "output_type": "stream",
     "text": [
      "--- 46.65220761299133 seconds ---\n",
      "(20.846272731124188, 3001)\n",
      "(22.897386813160445, 3004)\n",
      "(21.693578592243806, 3002)\n",
      "(23.546500195522945, 3005)\n",
      "(23.694927570322598, 3003)\n"
     ]
    }
   ],
   "source": [
    "#create the covariance matrix\n",
    "covar = np.zeros ((100,100))\n",
    "np.fill_diagonal (covar, 1)\n",
    "\n",
    "#and the mean vector\n",
    "mean = np.zeros (100)\n",
    "\n",
    "#create 3000 data points\n",
    "all_data = np.random.multivariate_normal (mean, covar, 3000)\n",
    "\n",
    "#now create the 20 outliers\n",
    "for i in range (1, 20):\n",
    "    mean.fill (i)\n",
    "    outlier_data = np.random.multivariate_normal (mean, covar, i)\n",
    "    all_data = np.concatenate ((all_data, outlier_data))\n",
    "\n",
    "#k for kNN detection\n",
    "k = 10\n",
    "\n",
    "#the number of outliers to return\n",
    "m = 5\n",
    "\n",
    "#start the timer\n",
    "start_time = time.time()\n",
    "\n",
    "#the priority queue of outliers\n",
    "outliers = []\n",
    "\n",
    "#YOUR CODE HERE! (Task 1)\n",
    "for i in range(len(all_data)):\n",
    "    \n",
    "    queue = []\n",
    "    \n",
    "    for j in range(len(all_data)):\n",
    "        if i != j:\n",
    "            hq.heappush(queue, -np.linalg.norm(all_data[i]-all_data[j]))\n",
    "            \n",
    "            if len(queue) > k:\n",
    "                hq.heappop(queue)\n",
    "                \n",
    "    d = hq.heappop(queue)\n",
    "    hq.heappush(outliers, (-d, i))\n",
    "    \n",
    "    if len(outliers) > m:\n",
    "        hq.heappop(outliers)\n",
    "        \n",
    "print(\"--- %s seconds ---\" % (time.time() - start_time))\n",
    "\n",
    "#print the outliers... \n",
    "for outlier in outliers:\n",
    "    print (outlier) "
   ]
  },
  {
   "cell_type": "code",
   "execution_count": 3,
   "metadata": {},
   "outputs": [
    {
     "name": "stdout",
     "output_type": "stream",
     "text": [
      "--- 1.899385929107666 seconds ---\n",
      "(20.846272731124188, 22)\n",
      "(22.897386813160445, 560)\n",
      "(21.693578592243806, 2694)\n",
      "(23.546500195522945, 95)\n",
      "(23.694927570322598, 2598)\n"
     ]
    }
   ],
   "source": [
    "start_time = time.time()\n",
    "\n",
    "np.random.shuffle(all_data)\n",
    "\n",
    "#the priority queue of outliers\n",
    "outliers = []\n",
    "\n",
    "for i in range(len(all_data)):\n",
    "    \n",
    "    queue = []\n",
    "    \n",
    "    for j in range(len(all_data)):\n",
    "        if i != j:\n",
    "            hq.heappush(queue, -np.linalg.norm(all_data[i]-all_data[j]))\n",
    "            \n",
    "            if len(queue) > k:\n",
    "                hq.heappop(queue)\n",
    "                \n",
    "            if len(queue) == k and len(outliers) == m and -queue[0] < outliers[0][0]:\n",
    "                break\n",
    "                \n",
    "    if j == len(all_data)-1:\n",
    "        d = hq.heappop(queue)\n",
    "        hq.heappush(outliers, (-d, i))\n",
    "        \n",
    "    if len(outliers) > m:\n",
    "        hq.heappop(outliers)\n",
    "        \n",
    "print(\"--- %s seconds ---\" % (time.time() - start_time))\n",
    "\n",
    "for outlier in outliers:\n",
    "    print (outlier)"
   ]
  },
  {
   "cell_type": "code",
   "execution_count": null,
   "metadata": {},
   "outputs": [],
   "source": []
  }
 ],
 "metadata": {
  "kernelspec": {
   "display_name": "Python 3",
   "language": "python",
   "name": "python3"
  },
  "language_info": {
   "codemirror_mode": {
    "name": "ipython",
    "version": 3
   },
   "file_extension": ".py",
   "mimetype": "text/x-python",
   "name": "python",
   "nbconvert_exporter": "python",
   "pygments_lexer": "ipython3",
   "version": "3.6.5"
  }
 },
 "nbformat": 4,
 "nbformat_minor": 2
}
