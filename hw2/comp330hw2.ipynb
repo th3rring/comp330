{
 "cells": [
  {
   "cell_type": "code",
   "execution_count": 6,
   "metadata": {},
   "outputs": [],
   "source": [
    "import numpy as np\n",
    "import math"
   ]
  },
  {
   "cell_type": "code",
   "execution_count": 7,
   "metadata": {},
   "outputs": [],
   "source": [
    "def f(a):\n",
    "    x = a[0]\n",
    "    y = a[1]\n",
    "    return math.sin(x + y) + (x - y) ** 2 - 1.5 * x + 2.5 * y + 1"
   ]
  },
  {
   "cell_type": "code",
   "execution_count": 8,
   "metadata": {},
   "outputs": [],
   "source": [
    "def grad_f(a):\n",
    "    x = a[0]\n",
    "    y = a[1]\n",
    "    #Gradient will return a np.array with derivative w.r.t x and y evaluated at the input values\n",
    "    return np.array([math.cos(x+y) + 2*x - 2*y - 1.5, math.cos(x+y) - 2*x + 2*y + 2.5])"
   ]
  },
  {
   "cell_type": "code",
   "execution_count": 11,
   "metadata": {},
   "outputs": [],
   "source": [
    "def gd_optimize(a):\n",
    "    lr = 1.0\n",
    "    delta_min = 10e-20\n",
    "    \n",
    "    #Calculate first entry\n",
    "    prev_arg = a\n",
    "    prev_f = f(a)\n",
    "    cur_arg = prev_arg - lr*grad_f(prev_arg)\n",
    "    cur_f = f(cur_arg)\n",
    "    \n",
    "    print(prev_f)\n",
    "    \n",
    "    #This should be the change in the actual value of f\n",
    "    while( abs(prev_f - cur_f) > delta_min):\n",
    "        \n",
    "        prev_arg = cur_arg\n",
    "        prev_f = cur_f\n",
    "        \n",
    "        cur_arg = prev_arg - lr*grad_f(prev_arg)\n",
    "        cur_f = f(cur_arg)\n",
    "        \n",
    "        print(cur_f)\n",
    "                            \n",
    "        if(cur_f > prev_f):\n",
    "            lr /= 2.0\n",
    "        elif (cur_f < prev_f):\n",
    "            lr *= 1.1\n",
    "            \n",
    "    print(cur_arg[0],cur_arg[1])"
   ]
  },
  {
   "cell_type": "code",
   "execution_count": 12,
   "metadata": {},
   "outputs": [
    {
     "name": "stdout",
     "output_type": "stream",
     "text": [
      "-1.4920390859672263\n",
      "1.3334558794291635\n",
      "1.3268499116028734\n",
      "2.7523771847067975\n",
      "-1.8665669166854748\n",
      "-1.9111654167040895\n",
      "-1.9129975284233218\n",
      "-1.9131744007498201\n",
      "-1.9132048577871785\n",
      "-1.9132121816164696\n",
      "-1.913213258262875\n",
      "-1.913210273657989\n",
      "-1.9132228896159607\n",
      "-1.9132229528872857\n",
      "-1.9132229547965087\n",
      "-1.9132229549474613\n",
      "-1.9132229549701578\n",
      "-1.9132229549753\n",
      "-1.9132229549764035\n",
      "-1.9132229549755455\n",
      "-1.9132229549810256\n",
      "-1.9132229549810358\n",
      "-1.9132229549810367\n",
      "-1.9132229549810362\n",
      "-1.9132229549810362\n",
      "-0.5471975514387262 -1.547197550954433\n"
     ]
    }
   ],
   "source": [
    "gd_optimize(np.array([-0.2, -1.0]))"
   ]
  },
  {
   "cell_type": "code",
   "execution_count": 44,
   "metadata": {},
   "outputs": [
    {
     "name": "stdout",
     "output_type": "stream",
     "text": [
      "-1.909297426825682\n",
      "-1.9120917963316075\n",
      "-1.9122579454221076\n",
      "-1.9121048719312692\n",
      "-1.9132185980895455\n",
      "-1.9132228547488088\n",
      "-1.9132229477761484\n",
      "-1.913222953858615\n",
      "-1.913222954660689\n",
      "-1.9132229548295658\n",
      "-1.913222954869942\n",
      "-1.913222954860406\n",
      "-1.9132229549809834\n",
      "-1.9132229549810358\n",
      "-1.9132229549810362\n",
      "-1.9132229549810362\n",
      "-0.5471975494008082 -1.5471975493404675\n"
     ]
    }
   ],
   "source": [
    "gd_optimize(np.array([-0.5, -1.5]))"
   ]
  },
  {
   "cell_type": "code",
   "execution_count": 9,
   "metadata": {},
   "outputs": [],
   "source": [
    "def hessian_f(a):\n",
    "    x = a[0]\n",
    "    y = a[1]\n",
    "    return np.array([[2-math.sin(x+y),-math.sin(x+y)-2],[-math.sin(x+y)-2,2-math.sin(x+y)]])"
   ]
  },
  {
   "cell_type": "code",
   "execution_count": 16,
   "metadata": {},
   "outputs": [],
   "source": [
    "def nm_optimize(a):\n",
    "    delta_min = 10e-15\n",
    "    \n",
    "    prev_arg = a\n",
    "    prev_f = f(a)\n",
    "    cur_arg = prev_arg - np.linalg.inv(hessian_f(prev_arg)).dot(grad_f(prev_arg))\n",
    "    cur_f = f(cur_arg)\n",
    "    \n",
    "    while(np.linalg.norm(cur_arg-prev_arg) > delta_min):\n",
    "        prev_arg = cur_arg\n",
    "        prev_f = cur_f\n",
    "        \n",
    "        cur_arg = prev_arg - np.linalg.inv(hessian_f(prev_arg)).dot(grad_f(prev_arg))\n",
    "        cur_f = f(cur_arg)\n",
    "        \n",
    "        print(cur_f)\n",
    "        \n",
    "    print(cur_arg[0],cur_arg[1])"
   ]
  },
  {
   "cell_type": "code",
   "execution_count": 17,
   "metadata": {},
   "outputs": [
    {
     "name": "stdout",
     "output_type": "stream",
     "text": [
      "-1.9132229186591214\n",
      "-1.9132229549810362\n",
      "-1.9132229549810362\n",
      "-1.9132229549810367\n",
      "-0.5471975511965979 -1.5471975511965979\n"
     ]
    }
   ],
   "source": [
    "nm_optimize(np.array([-0.2, -1.0]))"
   ]
  },
  {
   "cell_type": "code",
   "execution_count": 18,
   "metadata": {},
   "outputs": [
    {
     "name": "stdout",
     "output_type": "stream",
     "text": [
      "-1.913222954980231\n",
      "-1.9132229549810362\n",
      "-1.9132229549810367\n",
      "-1.9132229549810367\n",
      "-0.5471975511965977 -1.5471975511965979\n"
     ]
    }
   ],
   "source": [
    "nm_optimize(np.array([-0.5, -1.5]))"
   ]
  },
  {
   "cell_type": "code",
   "execution_count": null,
   "metadata": {},
   "outputs": [],
   "source": []
  }
 ],
 "metadata": {
  "kernelspec": {
   "display_name": "Python 3",
   "language": "python",
   "name": "python3"
  },
  "language_info": {
   "codemirror_mode": {
    "name": "ipython",
    "version": 3
   },
   "file_extension": ".py",
   "mimetype": "text/x-python",
   "name": "python",
   "nbconvert_exporter": "python",
   "pygments_lexer": "ipython3",
   "version": "3.6.5"
  }
 },
 "nbformat": 4,
 "nbformat_minor": 2
}
