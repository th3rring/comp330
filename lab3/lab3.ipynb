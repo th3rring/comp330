{
 "cells": [
  {
   "cell_type": "code",
   "execution_count": 15,
   "metadata": {},
   "outputs": [],
   "source": [
    "import numpy as np\n",
    "import time;"
   ]
  },
  {
   "cell_type": "code",
   "execution_count": 16,
   "metadata": {},
   "outputs": [],
   "source": [
    "# there are 2000 words in the corpus\n",
    "alpha = np.full (2000, .1)\n",
    " \n",
    "# there are 100 topics\n",
    "beta = np.full (100, .1)\n",
    "# this gets us the probabilty of each word happening in each of the 100 topics\n",
    "wordsInTopic = np.random.dirichlet (alpha, 100)\n",
    "# produced [doc, topic, word] gives us the number of times that the given word was\n",
    "# produced by the given topic in the given doc\n",
    "produced = np.zeros ((50, 100, 2000))"
   ]
  },
  {
   "cell_type": "code",
   "execution_count": 17,
   "metadata": {},
   "outputs": [],
   "source": [
    "# generate each doc\n",
    "for doc in range (0, 50):\n",
    "        #\n",
    "        # get the topic probabilities for this doc\n",
    "        topicsInDoc = np.random.dirichlet (beta)\n",
    "        #\n",
    "        # assign each of the 2000 words in this doc to a topic\n",
    "        wordsToTopic = np.random.multinomial (2000, topicsInDoc)\n",
    "        #\n",
    "        # and generate each of the 2000 words\n",
    "        for topic in range (0, 100):\n",
    "                produced[doc, topic] = np.random.multinomial (wordsToTopic[topic], wordsInTopic[topic])\n"
   ]
  },
  {
   "cell_type": "code",
   "execution_count": 18,
   "metadata": {},
   "outputs": [
    {
     "name": "stdout",
     "output_type": "stream",
     "text": [
      "636.0\n"
     ]
    }
   ],
   "source": [
    "print(produced[18,np.arange(17,46)].sum())"
   ]
  },
  {
   "cell_type": "code",
   "execution_count": 19,
   "metadata": {},
   "outputs": [
    {
     "name": "stdout",
     "output_type": "stream",
     "text": [
      "100000.0\n"
     ]
    }
   ],
   "source": [
    "print(produced.sum())"
   ]
  },
  {
   "cell_type": "code",
   "execution_count": 20,
   "metadata": {},
   "outputs": [
    {
     "name": "stdout",
     "output_type": "stream",
     "text": [
      "911.0\n"
     ]
    }
   ],
   "source": [
    "print(produced[:,17].sum())"
   ]
  },
  {
   "cell_type": "code",
   "execution_count": 28,
   "metadata": {},
   "outputs": [
    {
     "name": "stdout",
     "output_type": "stream",
     "text": [
      "[0. 0. 0. ... 0. 0. 0.]\n"
     ]
    }
   ],
   "source": [
    "print(produced[:,15].sum(0))"
   ]
  },
  {
   "cell_type": "code",
   "execution_count": 34,
   "metadata": {},
   "outputs": [
    {
     "name": "stdout",
     "output_type": "stream",
     "text": [
      "[94 90 58 ... 83 62 73]\n"
     ]
    }
   ],
   "source": [
    "print(produced.sum(0).argmax(0))"
   ]
  },
  {
   "cell_type": "code",
   "execution_count": null,
   "metadata": {},
   "outputs": [],
   "source": []
  }
 ],
 "metadata": {
  "kernelspec": {
   "display_name": "Python 3",
   "language": "python",
   "name": "python3"
  },
  "language_info": {
   "codemirror_mode": {
    "name": "ipython",
    "version": 3
   },
   "file_extension": ".py",
   "mimetype": "text/x-python",
   "name": "python",
   "nbconvert_exporter": "python",
   "pygments_lexer": "ipython3",
   "version": "3.6.5"
  }
 },
 "nbformat": 4,
 "nbformat_minor": 2
}
